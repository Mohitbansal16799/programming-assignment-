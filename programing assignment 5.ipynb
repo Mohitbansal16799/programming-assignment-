{
 "cells": [
  {
   "cell_type": "markdown",
   "id": "8735170a",
   "metadata": {},
   "source": [
    "Q1. Write a Python Program to Find LCM?"
   ]
  },
  {
   "cell_type": "code",
   "execution_count": 3,
   "id": "1e570e21",
   "metadata": {},
   "outputs": [],
   "source": [
    "def lcm(x,y):\n",
    "    if x>y:\n",
    "        greater = x\n",
    "    else:\n",
    "        greater = y\n",
    "    while(True):\n",
    "        if (greater%x == 0) and (greater%y==0):\n",
    "            print(greater ,\"is lcm\")\n",
    "            break\n",
    "        greater = greater + 1"
   ]
  },
  {
   "cell_type": "code",
   "execution_count": 4,
   "id": "d6a6c0a4",
   "metadata": {},
   "outputs": [
    {
     "name": "stdout",
     "output_type": "stream",
     "text": [
      "48 is lcm\n"
     ]
    }
   ],
   "source": [
    "lcm(12,48)"
   ]
  },
  {
   "cell_type": "code",
   "execution_count": 5,
   "id": "244b1210",
   "metadata": {},
   "outputs": [
    {
     "name": "stdout",
     "output_type": "stream",
     "text": [
      "23550 is lcm\n"
     ]
    }
   ],
   "source": [
    "lcm(150,785)"
   ]
  },
  {
   "cell_type": "markdown",
   "id": "2db4b67b",
   "metadata": {},
   "source": [
    "Q2 write a python program to find HCF?"
   ]
  },
  {
   "cell_type": "code",
   "execution_count": 22,
   "id": "fc5d5da6",
   "metadata": {},
   "outputs": [],
   "source": [
    "def hcf(x,y):\n",
    "    if x>y:\n",
    "        min = y\n",
    "    else:\n",
    "        min = x\n",
    "    for i in (1,min):\n",
    "        if (x % i == 0) and (y % i == 0):\n",
    "            highno = i\n",
    "    return highno\n",
    "# num1 =50\n",
    "# num2 =100\n",
    "# print(\"the no. are\",hcf(num1,num2))"
   ]
  },
  {
   "cell_type": "code",
   "execution_count": 23,
   "id": "30100693",
   "metadata": {},
   "outputs": [
    {
     "data": {
      "text/plain": [
       "40"
      ]
     },
     "execution_count": 23,
     "metadata": {},
     "output_type": "execute_result"
    }
   ],
   "source": [
    "hcf(40,80)"
   ]
  },
  {
   "cell_type": "code",
   "execution_count": null,
   "id": "5f1bac2d",
   "metadata": {},
   "outputs": [],
   "source": [
    "Q Write a Python Program to Convert Decimal to Binary, Octal and Hexadecimal?"
   ]
  },
  {
   "cell_type": "code",
   "execution_count": 27,
   "id": "52bf8b2a",
   "metadata": {},
   "outputs": [
    {
     "name": "stdout",
     "output_type": "stream",
     "text": [
      "enter any no.100\n",
      "0b1100100\n",
      "0o144\n",
      "0x64\n"
     ]
    }
   ],
   "source": [
    "num = int(input(\"enter any no.\"))\n",
    "print(bin(num))\n",
    "print(oct(num))\n",
    "print(hex(num))"
   ]
  },
  {
   "cell_type": "markdown",
   "id": "95436d8a",
   "metadata": {},
   "source": [
    "Q Write a Python Program To Find ASCII value of a character?"
   ]
  },
  {
   "cell_type": "code",
   "execution_count": 28,
   "id": "fa4a3164",
   "metadata": {},
   "outputs": [
    {
     "name": "stdout",
     "output_type": "stream",
     "text": [
      "The ASCII value of 'p' is 112\n"
     ]
    }
   ],
   "source": [
    "c = 'p'\n",
    "print(\"The ASCII value of '\" + c + \"' is\", ord(c))"
   ]
  },
  {
   "cell_type": "markdown",
   "id": "f24bc481",
   "metadata": {},
   "source": [
    "Q Write a Python Program to Make a Simple Calculator with 4 basic mathematical operations?"
   ]
  },
  {
   "cell_type": "code",
   "execution_count": null,
   "id": "142dea55",
   "metadata": {},
   "outputs": [
    {
     "name": "stdout",
     "output_type": "stream",
     "text": [
      "Select operation.\n",
      "1.Add\n",
      "2.Subtract\n",
      "3.Multiply\n",
      "4.Divide\n",
      "select your choice 1,2,3,43\n"
     ]
    }
   ],
   "source": [
    "def add(x,y):\n",
    "    return x+y\n",
    "def sub(x,y):\n",
    "    return x-y\n",
    "def multi(x,y):\n",
    "    return x*y\n",
    "def divide(x,y):\n",
    "    return x/y\n",
    "\n",
    "print(\"Select operation.\")\n",
    "print(\"1.Add\")\n",
    "print(\"2.Subtract\")\n",
    "print(\"3.Multiply\")\n",
    "print(\"4.Divide\")\n",
    "\n",
    "choice = int(input(\"select your choice 1,2,3,4\"))\n",
    "if choice == 1:\n",
    "    x = int(input(\"enter first no  \"))\n",
    "    y = int(input(\"enter second no.\"))\n",
    "    print(add(x,y))\n",
    "elif choice == 2:\n",
    "    x = int(input(\"enter first no  \"))\n",
    "    y = int(input(\"enter second no.\"))\n",
    "    print(sub(x,y))\n",
    "elif choice == 3:\n",
    "    x = int(input(\"enter first no  \"))\n",
    "    y = int(input(\"enter second no.\"))\n",
    "    print(multi(x,y))\n",
    "elif choice == 4:\n",
    "    x = int(input(\"enter first no  \"))\n",
    "    y = int(input(\"enter second no.\"))\n",
    "    print(divide(x,y))\n",
    "else :\n",
    "    print(\"you enter wrong digit\")"
   ]
  },
  {
   "cell_type": "code",
   "execution_count": null,
   "id": "34ab2b80",
   "metadata": {},
   "outputs": [],
   "source": []
  }
 ],
 "metadata": {
  "kernelspec": {
   "display_name": "Python 3 (ipykernel)",
   "language": "python",
   "name": "python3"
  },
  "language_info": {
   "codemirror_mode": {
    "name": "ipython",
    "version": 3
   },
   "file_extension": ".py",
   "mimetype": "text/x-python",
   "name": "python",
   "nbconvert_exporter": "python",
   "pygments_lexer": "ipython3",
   "version": "3.9.7"
  }
 },
 "nbformat": 4,
 "nbformat_minor": 5
}
