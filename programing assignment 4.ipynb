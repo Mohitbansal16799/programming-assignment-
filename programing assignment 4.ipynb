{
 "cells": [
  {
   "cell_type": "markdown",
   "id": "77160357",
   "metadata": {},
   "source": [
    "1. Write a Python Program to Find the Factorial of a Number?"
   ]
  },
  {
   "cell_type": "code",
   "execution_count": 2,
   "id": "370f12e7",
   "metadata": {},
   "outputs": [
    {
     "name": "stdout",
     "output_type": "stream",
     "text": [
      "enter no.7\n",
      "5040\n"
     ]
    }
   ],
   "source": [
    "factorial = 1\n",
    "num = int(input(\"enter no.\"))\n",
    "for i in range(1,num+1):\n",
    "    factorial = factorial*i\n",
    "print(factorial)"
   ]
  },
  {
   "cell_type": "markdown",
   "id": "0bdfafce",
   "metadata": {},
   "source": [
    "2. Write a Python Program to Display the multiplication Table?"
   ]
  },
  {
   "cell_type": "code",
   "execution_count": 4,
   "id": "37c2fe2e",
   "metadata": {},
   "outputs": [
    {
     "name": "stdout",
     "output_type": "stream",
     "text": [
      "12 x 1 = 12\n",
      "12 x 2 = 24\n",
      "12 x 3 = 36\n",
      "12 x 4 = 48\n",
      "12 x 5 = 60\n",
      "12 x 6 = 72\n",
      "12 x 7 = 84\n",
      "12 x 8 = 96\n",
      "12 x 9 = 108\n",
      "12 x 10 = 120\n"
     ]
    }
   ],
   "source": [
    "num = 12\n",
    "for i in range(1,11):\n",
    "    print(num ,\"x\" ,i,\"=\", num*i)"
   ]
  },
  {
   "cell_type": "markdown",
   "id": "0c6b9a24",
   "metadata": {},
   "source": [
    "3. Write a Python Program to Print the Fibonacci sequence?"
   ]
  },
  {
   "cell_type": "code",
   "execution_count": 5,
   "id": "a2a4fa5a",
   "metadata": {},
   "outputs": [
    {
     "name": "stdout",
     "output_type": "stream",
     "text": [
      "How many terms? 10\n",
      "Fibonacci sequence:\n",
      "0\n",
      "1\n",
      "1\n",
      "2\n",
      "3\n",
      "5\n",
      "8\n",
      "13\n",
      "21\n",
      "34\n"
     ]
    }
   ],
   "source": [
    "# Program to display the Fibonacci sequence up to n-th term\n",
    "\n",
    "nterms = int(input(\"How many terms? \"))\n",
    "\n",
    "# first two terms\n",
    "n1, n2 = 0, 1\n",
    "count = 0\n",
    "\n",
    "# check if the number of terms is valid\n",
    "if nterms <= 0:\n",
    "   print(\"Please enter a positive integer\")\n",
    "# if there is only one term, return n1\n",
    "elif nterms == 1:\n",
    "   print(\"Fibonacci sequence upto\",nterms,\":\")\n",
    "   print(n1)\n",
    "# generate fibonacci sequence\n",
    "else:\n",
    "   print(\"Fibonacci sequence:\")\n",
    "   while count < nterms:\n",
    "       print(n1)\n",
    "       nth = n1 + n2\n",
    "       # update values\n",
    "       n1 = n2\n",
    "       n2 = nth\n",
    "       count += 1"
   ]
  },
  {
   "cell_type": "markdown",
   "id": "702c0b6b",
   "metadata": {},
   "source": [
    "3. Write a Python Program to Print the Fibonacci sequence?"
   ]
  },
  {
   "cell_type": "code",
   "execution_count": 3,
   "id": "0be1a99c",
   "metadata": {},
   "outputs": [
    {
     "name": "stdout",
     "output_type": "stream",
     "text": [
      "enter any no.10\n",
      "fibonacci series :\n",
      "0\n",
      "1\n",
      "1\n",
      "2\n",
      "3\n",
      "5\n",
      "8\n",
      "13\n",
      "21\n",
      "34\n"
     ]
    }
   ],
   "source": [
    "num = int(input(\"enter any no.\"))\n",
    "n1,n2 = 0,1\n",
    "count = 0\n",
    "if num < 0:\n",
    "    print(\"please enter positive no.\")\n",
    "elif num == 1:\n",
    "    print (\"print fibonacci  no. \",num,\":\")\n",
    "    print(n1)\n",
    "else:\n",
    "    print(\"fibonacci series :\")\n",
    "    while count < num:\n",
    "        print(n1)\n",
    "        nth = n1+n2\n",
    "        n1 = n2\n",
    "        n2 = nth\n",
    "        count = count + 1"
   ]
  },
  {
   "cell_type": "markdown",
   "id": "ecc18446",
   "metadata": {},
   "source": [
    "4. Write a Python Program to Check Armstrong Number?"
   ]
  },
  {
   "cell_type": "code",
   "execution_count": 19,
   "id": "efe3adc2",
   "metadata": {},
   "outputs": [
    {
     "name": "stdout",
     "output_type": "stream",
     "text": [
      "enter any no.8208\n",
      "tthis is armstrong\n"
     ]
    }
   ],
   "source": [
    "number = int(input(\"enter any no.\"))\n",
    "\n",
    "def armstrong(num):\n",
    "    original = num\n",
    "    order = len(str(num))\n",
    "    sum = 0\n",
    "    while num>0:\n",
    "        digit = num % 10\n",
    "        sum = sum + digit**order\n",
    "        num = num//10\n",
    "    if original == sum:\n",
    "        return True\n",
    "    return False\n",
    "        \n",
    "if armstrong(number):\n",
    "    print(\"tthis is armstrong\")\n",
    "else:\n",
    "    print(\"not a no.\")\n",
    "    "
   ]
  },
  {
   "cell_type": "markdown",
   "id": "7c628010",
   "metadata": {},
   "source": [
    "Q5Write a Python Program to Find Armstrong Number in an Interval?"
   ]
  },
  {
   "cell_type": "code",
   "execution_count": 22,
   "id": "7cf7ca71",
   "metadata": {},
   "outputs": [
    {
     "name": "stdout",
     "output_type": "stream",
     "text": [
      "153\n",
      "370\n",
      "371\n",
      "407\n"
     ]
    }
   ],
   "source": [
    "for number in range (100,1000):\n",
    "\n",
    "    def armstrong(num):\n",
    "        original = num\n",
    "        order = len(str(num))\n",
    "        sum = 0\n",
    "        while num>0:\n",
    "            digit = num % 10\n",
    "            sum = sum + digit**order\n",
    "            num = num//10\n",
    "        if original == sum:\n",
    "            return True\n",
    "        return False\n",
    "        \n",
    "    if armstrong(number):\n",
    "        print(number)\n",
    "    else:\n",
    "        pass\n",
    "        \n",
    "    "
   ]
  },
  {
   "cell_type": "markdown",
   "id": "1a94acbf",
   "metadata": {},
   "source": [
    "Q6 Write a Python Program to Find the Sum of Natural Numbers?"
   ]
  },
  {
   "cell_type": "code",
   "execution_count": 24,
   "id": "0b6ef0db",
   "metadata": {},
   "outputs": [
    {
     "name": "stdout",
     "output_type": "stream",
     "text": [
      "enter any no.3\n",
      "6\n"
     ]
    }
   ],
   "source": [
    "num = int(input(\"enter any no.\"))\n",
    "sum = 0\n",
    "for i in range(1,num+1):\n",
    "    sum = sum +i\n",
    "print(sum)\n",
    "    "
   ]
  },
  {
   "cell_type": "code",
   "execution_count": null,
   "id": "dd307a57",
   "metadata": {},
   "outputs": [],
   "source": []
  }
 ],
 "metadata": {
  "kernelspec": {
   "display_name": "Python 3 (ipykernel)",
   "language": "python",
   "name": "python3"
  },
  "language_info": {
   "codemirror_mode": {
    "name": "ipython",
    "version": 3
   },
   "file_extension": ".py",
   "mimetype": "text/x-python",
   "name": "python",
   "nbconvert_exporter": "python",
   "pygments_lexer": "ipython3",
   "version": "3.9.7"
  }
 },
 "nbformat": 4,
 "nbformat_minor": 5
}
