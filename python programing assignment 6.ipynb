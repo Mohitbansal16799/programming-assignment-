{
 "cells": [
  {
   "cell_type": "markdown",
   "id": "d24902e0",
   "metadata": {},
   "source": [
    "Q Write a Python Program to Display Fibonacci Sequence Using Recursion?"
   ]
  },
  {
   "cell_type": "code",
   "execution_count": 1,
   "id": "8415a92e",
   "metadata": {},
   "outputs": [
    {
     "name": "stdout",
     "output_type": "stream",
     "text": [
      "enter first no. 10\n",
      "0\n",
      "1\n",
      "1\n",
      "2\n",
      "3\n",
      "5\n",
      "8\n",
      "13\n",
      "21\n",
      "34\n"
     ]
    }
   ],
   "source": [
    "def rec_fibo(x):\n",
    "    if x <=1:\n",
    "        return x\n",
    "    else:\n",
    "        return(rec_fibo(x-1) + rec_fibo(x-2))\n",
    "num = int(input(\"enter first no. \"))\n",
    "for i in range (num):\n",
    "      print(rec_fibo(i))"
   ]
  },
  {
   "cell_type": "markdown",
   "id": "9df2fdb3",
   "metadata": {},
   "source": [
    "Q Write a Python Program to Find Factorial of Number Using Recursion?"
   ]
  },
  {
   "cell_type": "code",
   "execution_count": 2,
   "id": "c1c97d3f",
   "metadata": {},
   "outputs": [
    {
     "name": "stdout",
     "output_type": "stream",
     "text": [
      "enter your no.10\n",
      "10 factorial is 3628800\n"
     ]
    }
   ],
   "source": [
    "num = int(input(\"enter your no.\"))\n",
    "def factorial(x):\n",
    "    if x ==1:\n",
    "        return x\n",
    "    else:\n",
    "        return x*factorial(x-1)\n",
    "print(num,\"factorial is\",factorial(num))\n",
    "    "
   ]
  },
  {
   "cell_type": "markdown",
   "id": "10d0a209",
   "metadata": {},
   "source": [
    "3. Write a Python Program to calculate your Body Mass Index"
   ]
  },
  {
   "cell_type": "code",
   "execution_count": 9,
   "id": "f67e4623",
   "metadata": {},
   "outputs": [
    {
     "name": "stdout",
     "output_type": "stream",
     "text": [
      "enter your detail6\n",
      "enter your detail65\n",
      "1.81\n"
     ]
    }
   ],
   "source": [
    "height = float(input(\"enter your detail\"))\n",
    "weight = float(input(\"enter your detail\"))\n",
    "bodymass = round(weight/(height*height),2)\n",
    "print(bodymass)"
   ]
  },
  {
   "cell_type": "markdown",
   "id": "9d1df8e2",
   "metadata": {},
   "source": [
    "Q4 Write a Python Program to calculate the natural logarithm of any number?"
   ]
  },
  {
   "cell_type": "code",
   "execution_count": 10,
   "id": "883d5bf7",
   "metadata": {},
   "outputs": [
    {
     "name": "stdout",
     "output_type": "stream",
     "text": [
      "enter any no.10\n"
     ]
    },
    {
     "data": {
      "text/plain": [
       "2.302585092994046"
      ]
     },
     "execution_count": 10,
     "metadata": {},
     "output_type": "execute_result"
    }
   ],
   "source": [
    "import math\n",
    "num = int(input(\"enter any no.\"))\n",
    "math.log(num)"
   ]
  },
  {
   "cell_type": "markdown",
   "id": "03354b8a",
   "metadata": {},
   "source": [
    "Q6 Write a Python Program for cube sum of first n natural numbers?"
   ]
  },
  {
   "cell_type": "code",
   "execution_count": 13,
   "id": "afd343ef",
   "metadata": {},
   "outputs": [
    {
     "name": "stdout",
     "output_type": "stream",
     "text": [
      "enter your no.10\n",
      "3025\n"
     ]
    }
   ],
   "source": [
    "num =int(input(\"enter your no.\"))\n",
    "sum = 0\n",
    "for i in range(1,num+1):\n",
    "    sum = sum + (i**3)\n",
    "print(sum)\n",
    "    "
   ]
  },
  {
   "cell_type": "code",
   "execution_count": null,
   "id": "7d9a5c1c",
   "metadata": {},
   "outputs": [],
   "source": []
  }
 ],
 "metadata": {
  "kernelspec": {
   "display_name": "Python 3 (ipykernel)",
   "language": "python",
   "name": "python3"
  },
  "language_info": {
   "codemirror_mode": {
    "name": "ipython",
    "version": 3
   },
   "file_extension": ".py",
   "mimetype": "text/x-python",
   "name": "python",
   "nbconvert_exporter": "python",
   "pygments_lexer": "ipython3",
   "version": "3.9.7"
  }
 },
 "nbformat": 4,
 "nbformat_minor": 5
}
